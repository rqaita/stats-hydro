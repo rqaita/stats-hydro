{
 "cells": [
  {
   "cell_type": "markdown",
   "id": "eeb801bb-8574-4017-9616-b776d2f0f10a",
   "metadata": {},
   "source": [
    "**HIDROLOGIA ESTATÍSTICA  \n",
    "ATIVIDADE 2 – ESTATÍSTICA DESCRITIVA**  \n",
    "**Objetivos:** Aplicar os conceitos e ferramentas da estatística descritiva na análise de séries\n",
    "hidrológicas.  \n",
    "**Descrição do trabalho:** Selecionar duas bacias hidrográficas. Para cada bacia hidrográfica selecionar uma série\n",
    "pluviométrica e uma série fluviométrica utilizando a base de dados da Agencia Nacional de\n",
    "Águas (ANA). Baixar as séries temporais médias em escala diária, mensal e anual para cada\n",
    "estação. As séries selecionadas devem ter no mínimo 30 anos de extensão sem falhas.\n",
    "Desenvolver os seguintes itens:\n",
    "1. Estatística descritiva das séries de vazão em escala diária, mensal e anual. **OK**\n",
    "2. Estatística descritiva das séries de precipitação em escala mensal e anual. **OK**\n",
    "3. Apresentar gráficos utilizando a livraria “ggplot2” para apoiar a análise de dados:\n",
    "- Gráfico de dispersão (Vazão vs precipitação)\n",
    "- Histograma\n",
    "- Polígono de frequência\n",
    "- Box-plots das séries mensais\n",
    "- Curva de permanência (Série de vazão média anual)\n",
    "4. Fazer uma discussão crítica que compare a estatística descritiva estimada das variáveis\n",
    "observadas.\n",
    "5. Apresentar o trabalho em formato artigo com os seguintes elementos: Resumo,\n",
    "Introdução, Métodos, Resultados, Conclusões.\n",
    "O corpo do documento deve ter no máximo 10 páginas. Utilizar anexos de figuras caso for\n",
    "necessário."
   ]
  },
  {
   "cell_type": "markdown",
   "id": "a63592cb-bbfd-4fad-af12-e7c39a018aa4",
   "metadata": {
    "tags": []
   },
   "source": [
    "# Funções auxiliares"
   ]
  },
  {
   "cell_type": "code",
   "execution_count": 3,
   "id": "2322442b-bfc3-45b1-a579-4292db489c84",
   "metadata": {},
   "outputs": [],
   "source": [
    "import pandas as pd\n",
    "import activ_2 as aux\n",
    "salvar = False"
   ]
  },
  {
   "cell_type": "markdown",
   "id": "9fe6b519-c10c-44e6-aae1-8d8c0c10adf3",
   "metadata": {
    "tags": []
   },
   "source": [
    "# Estatísticas descritivas"
   ]
  },
  {
   "cell_type": "code",
   "execution_count": 7,
   "id": "5418d725",
   "metadata": {},
   "outputs": [],
   "source": [
    "df_tiririca = pd.read_excel(\n",
    "    'org_geral.xlsx', sheet_name='CAM', usecols='A:C',\n",
    "    header=0, index_col=0, names=['data', 'fluv', 'pluv'],\n",
    ")\n",
    "\n",
    "df_fazendinha = pd.read_excel(\n",
    "    'org_geral.xlsx', sheet_name='SJP', usecols='A:C',\n",
    "    header=0, index_col=0, names=['data', 'fluv', 'pluv'],\n",
    ")"
   ]
  },
  {
   "cell_type": "markdown",
   "id": "9fe6b519-c10c-44e6-aae1-8d8c0c10adf3",
   "metadata": {
    "tags": []
   },
   "source": [
    "## Fazendinha"
   ]
  },
  {
   "cell_type": "markdown",
   "id": "d1e1fab0",
   "metadata": {},
   "source": [
    "### Pluviométrica"
   ]
  },
  {
   "cell_type": "code",
   "execution_count": 8,
   "id": "ffb2af1f",
   "metadata": {},
   "outputs": [],
   "source": [
    "df = df_tiririca.pluv\n",
    "i = df.index.min().date()\n",
    "f = df.index.max().date()\n"
   ]
  },
  {
   "cell_type": "code",
   "execution_count": 10,
   "id": "247e1574",
   "metadata": {},
   "outputs": [
    {
     "ename": "ValueError",
     "evalue": "array length 21185 does not match index length 17533",
     "output_type": "error",
     "traceback": [
      "\u001b[1;31m---------------------------------------------------------------------------\u001b[0m",
      "\u001b[1;31mValueError\u001b[0m                                Traceback (most recent call last)",
      "\u001b[1;32mc:\\Users\\raquel.aita\\Documents\\GitHub\\stats-hydro\\activ_2\\activ_2.ipynb Célula: 9\u001b[0m in \u001b[0;36m<cell line: 1>\u001b[1;34m()\u001b[0m\n\u001b[1;32m----> <a href='vscode-notebook-cell:/c%3A/Users/raquel.aita/Documents/GitHub/stats-hydro/activ_2/activ_2.ipynb#Y120sZmlsZQ%3D%3D?line=0'>1</a>\u001b[0m tiririca_pluv \u001b[39m=\u001b[39m aux\u001b[39m.\u001b[39;49mactiv_2_stats(df, i , f)\n",
      "File \u001b[1;32mc:\\Users\\raquel.aita\\Documents\\GitHub\\stats-hydro\\activ_2\\activ_2.py:134\u001b[0m, in \u001b[0;36mactiv_2_stats\u001b[1;34m(df, i, f, print_results)\u001b[0m\n\u001b[0;32m    122\u001b[0m \u001b[39mdef\u001b[39;00m \u001b[39mactiv_2_stats\u001b[39m(df, i, f, print_results\u001b[39m=\u001b[39m\u001b[39mFalse\u001b[39;00m):  \n\u001b[0;32m    123\u001b[0m     \u001b[39m\"\"\"Obtém as estatísticas descritivas da série em questão.\u001b[39;00m\n\u001b[0;32m    124\u001b[0m \n\u001b[0;32m    125\u001b[0m \u001b[39m    Entrada\u001b[39;00m\n\u001b[0;32m    126\u001b[0m \u001b[39m    =======\u001b[39;00m\n\u001b[0;32m    127\u001b[0m \u001b[39m    df : pd.DataFrame\u001b[39;00m\n\u001b[0;32m    128\u001b[0m \u001b[39m    i : pd.datetime\u001b[39;00m\n\u001b[0;32m    129\u001b[0m \u001b[39m    f : pd.datetime\u001b[39;00m\n\u001b[0;32m    130\u001b[0m \u001b[39m    print_results : boolean\u001b[39;00m\n\u001b[0;32m    131\u001b[0m \n\u001b[0;32m    132\u001b[0m \u001b[39m    Retorno\u001b[39;00m\n\u001b[0;32m    133\u001b[0m \u001b[39m    =======\u001b[39;00m\n\u001b[1;32m--> 134\u001b[0m \u001b[39m    desc_stats_ano :\u001b[39;00m\n\u001b[0;32m    135\u001b[0m \u001b[39m    desc_stats_dia :\u001b[39;00m\n\u001b[0;32m    136\u001b[0m \u001b[39m    desc_stats_mes :\u001b[39;00m\n\u001b[0;32m    137\u001b[0m \u001b[39m    i :\u001b[39;00m\n\u001b[0;32m    138\u001b[0m \u001b[39m    f :\u001b[39;00m\n\u001b[0;32m    139\u001b[0m \u001b[39m    df_dia :\u001b[39;00m\n\u001b[0;32m    140\u001b[0m \u001b[39m    df_mes :\u001b[39;00m\n\u001b[0;32m    141\u001b[0m \u001b[39m    df_ano :\u001b[39;00m\n\u001b[0;32m    142\u001b[0m \n\u001b[0;32m    143\u001b[0m \u001b[39m    \"\"\"\u001b[39;00m\n\u001b[0;32m    144\u001b[0m     \u001b[39m# Criando série média mensal e anual\u001b[39;00m\n\u001b[0;32m    145\u001b[0m     df_dia, df_mes, df_ano \u001b[39m=\u001b[39m multiple_scales(df, i, f)\n",
      "File \u001b[1;32mc:\\Users\\raquel.aita\\Documents\\GitHub\\stats-hydro\\activ_2\\activ_2.py:84\u001b[0m, in \u001b[0;36mmultiple_scales\u001b[1;34m(df, i, f)\u001b[0m\n\u001b[0;32m     82\u001b[0m desc_stats[\u001b[39m'\u001b[39m\u001b[39mAmplitude inter-quartil\u001b[39m\u001b[39m'\u001b[39m] \u001b[39m=\u001b[39m [AIQ , \u001b[39m'\u001b[39m\u001b[39mm3/s\u001b[39m\u001b[39m'\u001b[39m]\n\u001b[0;32m     83\u001b[0m desc_stats[\u001b[39m'\u001b[39m\u001b[39mMáximo\u001b[39m\u001b[39m'\u001b[39m]                  \u001b[39m=\u001b[39m [xmax, \u001b[39m'\u001b[39m\u001b[39mm3/s\u001b[39m\u001b[39m'\u001b[39m]\n\u001b[1;32m---> 84\u001b[0m desc_stats[\u001b[39m'\u001b[39m\u001b[39mMínimo\u001b[39m\u001b[39m'\u001b[39m]                  \u001b[39m=\u001b[39m [xmin, \u001b[39m'\u001b[39m\u001b[39mm3/s\u001b[39m\u001b[39m'\u001b[39m]\n\u001b[0;32m     85\u001b[0m desc_stats[\u001b[39m'\u001b[39m\u001b[39mAmplitude\u001b[39m\u001b[39m'\u001b[39m]               \u001b[39m=\u001b[39m [A   , \u001b[39m'\u001b[39m\u001b[39mm3/s\u001b[39m\u001b[39m'\u001b[39m]\n\u001b[0;32m     86\u001b[0m desc_stats[\u001b[39m'\u001b[39m\u001b[39mCoeficiente de variação\u001b[39m\u001b[39m'\u001b[39m] \u001b[39m=\u001b[39m [cvar, \u001b[39m'\u001b[39m\u001b[39m%\u001b[39m\u001b[39m'\u001b[39m]\n",
      "File \u001b[1;32mc:\\Users\\raquel.aita\\Documents\\GitHub\\stats-hydro\\activ_2\\activ_2.py:36\u001b[0m, in \u001b[0;36mdaily_scale\u001b[1;34m(df, i, f)\u001b[0m\n\u001b[0;32m     33\u001b[0m     f_mes \u001b[39m=\u001b[39m \u001b[39m12\u001b[39m\n\u001b[0;32m     35\u001b[0m \u001b[39mfor\u001b[39;00m m \u001b[39min\u001b[39;00m \u001b[39mrange\u001b[39m(i_mes, f_mes \u001b[39m+\u001b[39m \u001b[39m1\u001b[39m):  \u001b[39m# para todos os meses do ano\u001b[39;00m\n\u001b[1;32m---> 36\u001b[0m     df_month \u001b[39m=\u001b[39m df_year[df_year[\u001b[39m'\u001b[39m\u001b[39mmes\u001b[39m\u001b[39m'\u001b[39m] \u001b[39m==\u001b[39m m]\n\u001b[0;32m     37\u001b[0m     mes\u001b[39m.\u001b[39mappend(m)\n\u001b[0;32m     38\u001b[0m     media\u001b[39m.\u001b[39mappend(df_month[\u001b[39m\"\u001b[39m\u001b[39mdado\u001b[39m\u001b[39m\"\u001b[39m]\u001b[39m.\u001b[39mmean())\n",
      "File \u001b[1;32mc:\\ProgramData\\Anaconda3\\lib\\site-packages\\pandas\\core\\frame.py:636\u001b[0m, in \u001b[0;36mDataFrame.__init__\u001b[1;34m(self, data, index, columns, dtype, copy)\u001b[0m\n\u001b[0;32m    630\u001b[0m     mgr \u001b[39m=\u001b[39m \u001b[39mself\u001b[39m\u001b[39m.\u001b[39m_init_mgr(\n\u001b[0;32m    631\u001b[0m         data, axes\u001b[39m=\u001b[39m{\u001b[39m\"\u001b[39m\u001b[39mindex\u001b[39m\u001b[39m\"\u001b[39m: index, \u001b[39m\"\u001b[39m\u001b[39mcolumns\u001b[39m\u001b[39m\"\u001b[39m: columns}, dtype\u001b[39m=\u001b[39mdtype, copy\u001b[39m=\u001b[39mcopy\n\u001b[0;32m    632\u001b[0m     )\n\u001b[0;32m    634\u001b[0m \u001b[39melif\u001b[39;00m \u001b[39misinstance\u001b[39m(data, \u001b[39mdict\u001b[39m):\n\u001b[0;32m    635\u001b[0m     \u001b[39m# GH#38939 de facto copy defaults to False only in non-dict cases\u001b[39;00m\n\u001b[1;32m--> 636\u001b[0m     mgr \u001b[39m=\u001b[39m dict_to_mgr(data, index, columns, dtype\u001b[39m=\u001b[39;49mdtype, copy\u001b[39m=\u001b[39;49mcopy, typ\u001b[39m=\u001b[39;49mmanager)\n\u001b[0;32m    637\u001b[0m \u001b[39melif\u001b[39;00m \u001b[39misinstance\u001b[39m(data, ma\u001b[39m.\u001b[39mMaskedArray):\n\u001b[0;32m    638\u001b[0m     \u001b[39mimport\u001b[39;00m \u001b[39mnumpy\u001b[39;00m\u001b[39m.\u001b[39;00m\u001b[39mma\u001b[39;00m\u001b[39m.\u001b[39;00m\u001b[39mmrecords\u001b[39;00m \u001b[39mas\u001b[39;00m \u001b[39mmrecords\u001b[39;00m\n",
      "File \u001b[1;32mc:\\ProgramData\\Anaconda3\\lib\\site-packages\\pandas\\core\\internals\\construction.py:502\u001b[0m, in \u001b[0;36mdict_to_mgr\u001b[1;34m(data, index, columns, dtype, typ, copy)\u001b[0m\n\u001b[0;32m    494\u001b[0m     arrays \u001b[39m=\u001b[39m [\n\u001b[0;32m    495\u001b[0m         x\n\u001b[0;32m    496\u001b[0m         \u001b[39mif\u001b[39;00m \u001b[39mnot\u001b[39;00m \u001b[39mhasattr\u001b[39m(x, \u001b[39m\"\u001b[39m\u001b[39mdtype\u001b[39m\u001b[39m\"\u001b[39m) \u001b[39mor\u001b[39;00m \u001b[39mnot\u001b[39;00m \u001b[39misinstance\u001b[39m(x\u001b[39m.\u001b[39mdtype, ExtensionDtype)\n\u001b[0;32m    497\u001b[0m         \u001b[39melse\u001b[39;00m x\u001b[39m.\u001b[39mcopy()\n\u001b[0;32m    498\u001b[0m         \u001b[39mfor\u001b[39;00m x \u001b[39min\u001b[39;00m arrays\n\u001b[0;32m    499\u001b[0m     ]\n\u001b[0;32m    500\u001b[0m     \u001b[39m# TODO: can we get rid of the dt64tz special case above?\u001b[39;00m\n\u001b[1;32m--> 502\u001b[0m \u001b[39mreturn\u001b[39;00m arrays_to_mgr(arrays, columns, index, dtype\u001b[39m=\u001b[39;49mdtype, typ\u001b[39m=\u001b[39;49mtyp, consolidate\u001b[39m=\u001b[39;49mcopy)\n",
      "File \u001b[1;32mc:\\ProgramData\\Anaconda3\\lib\\site-packages\\pandas\\core\\internals\\construction.py:120\u001b[0m, in \u001b[0;36marrays_to_mgr\u001b[1;34m(arrays, columns, index, dtype, verify_integrity, typ, consolidate)\u001b[0m\n\u001b[0;32m    117\u001b[0m \u001b[39mif\u001b[39;00m verify_integrity:\n\u001b[0;32m    118\u001b[0m     \u001b[39m# figure out the index, if necessary\u001b[39;00m\n\u001b[0;32m    119\u001b[0m     \u001b[39mif\u001b[39;00m index \u001b[39mis\u001b[39;00m \u001b[39mNone\u001b[39;00m:\n\u001b[1;32m--> 120\u001b[0m         index \u001b[39m=\u001b[39m _extract_index(arrays)\n\u001b[0;32m    121\u001b[0m     \u001b[39melse\u001b[39;00m:\n\u001b[0;32m    122\u001b[0m         index \u001b[39m=\u001b[39m ensure_index(index)\n",
      "File \u001b[1;32mc:\\ProgramData\\Anaconda3\\lib\\site-packages\\pandas\\core\\internals\\construction.py:688\u001b[0m, in \u001b[0;36m_extract_index\u001b[1;34m(data)\u001b[0m\n\u001b[0;32m    683\u001b[0m     \u001b[39mif\u001b[39;00m lengths[\u001b[39m0\u001b[39m] \u001b[39m!=\u001b[39m \u001b[39mlen\u001b[39m(index):\n\u001b[0;32m    684\u001b[0m         msg \u001b[39m=\u001b[39m (\n\u001b[0;32m    685\u001b[0m             \u001b[39mf\u001b[39m\u001b[39m\"\u001b[39m\u001b[39marray length \u001b[39m\u001b[39m{\u001b[39;00mlengths[\u001b[39m0\u001b[39m]\u001b[39m}\u001b[39;00m\u001b[39m does not match index \u001b[39m\u001b[39m\"\u001b[39m\n\u001b[0;32m    686\u001b[0m             \u001b[39mf\u001b[39m\u001b[39m\"\u001b[39m\u001b[39mlength \u001b[39m\u001b[39m{\u001b[39;00m\u001b[39mlen\u001b[39m(index)\u001b[39m}\u001b[39;00m\u001b[39m\"\u001b[39m\n\u001b[0;32m    687\u001b[0m         )\n\u001b[1;32m--> 688\u001b[0m         \u001b[39mraise\u001b[39;00m \u001b[39mValueError\u001b[39;00m(msg)\n\u001b[0;32m    689\u001b[0m \u001b[39melse\u001b[39;00m:\n\u001b[0;32m    690\u001b[0m     index \u001b[39m=\u001b[39m default_index(lengths[\u001b[39m0\u001b[39m])\n",
      "\u001b[1;31mValueError\u001b[0m: array length 21185 does not match index length 17533"
     ]
    }
   ],
   "source": [
    "tiririca_pluv = aux.activ_2_stats(df, i , f)"
   ]
  },
  {
   "cell_type": "code",
   "execution_count": 14,
   "id": "ec9965eb",
   "metadata": {},
   "outputs": [
    {
     "data": {
      "text/plain": [
       "data\n",
       "1964-06-01    NaN\n",
       "1964-06-02    NaN\n",
       "1964-06-03    NaN\n",
       "1964-06-04    NaN\n",
       "1964-06-05    2.0\n",
       "             ... \n",
       "NaT           NaN\n",
       "NaT           NaN\n",
       "NaT           NaN\n",
       "NaT           NaN\n",
       "NaT           NaN\n",
       "Name: pluv, Length: 21946, dtype: float64"
      ]
     },
     "execution_count": 14,
     "metadata": {},
     "output_type": "execute_result"
    }
   ],
   "source": [
    "df"
   ]
  },
  {
   "cell_type": "markdown",
   "id": "d1e1fab0",
   "metadata": {},
   "source": [
    "### Fluviométrica"
   ]
  },
  {
   "cell_type": "code",
   "execution_count": 9,
   "id": "ffb2af1f",
   "metadata": {},
   "outputs": [],
   "source": [
    "df = df_tiririca.fluv\n",
    "i = df.index.min().date()\n",
    "f = df.index.max().date()\n",
    "tiririca_fluv = aux.activ_2_stats(df, i , f)"
   ]
  },
  {
   "cell_type": "markdown",
   "id": "9fe6b519-c10c-44e6-aae1-8d8c0c10adf3",
   "metadata": {
    "tags": []
   },
   "source": [
    "## Tiririca"
   ]
  },
  {
   "cell_type": "markdown",
   "id": "d1e1fab0",
   "metadata": {},
   "source": [
    "### Pluviométrica"
   ]
  },
  {
   "cell_type": "code",
   "execution_count": 12,
   "id": "ffb2af1f",
   "metadata": {},
   "outputs": [
    {
     "ename": "ValueError",
     "evalue": "array length 21064 does not match index length 21946",
     "output_type": "error",
     "traceback": [
      "\u001b[1;31m---------------------------------------------------------------------------\u001b[0m",
      "\u001b[1;31mValueError\u001b[0m                                Traceback (most recent call last)",
      "\u001b[1;32mc:\\Users\\raquel.aita\\Documents\\GitHub\\stats-hydro\\activ_2\\activ_2.ipynb Célula: 14\u001b[0m in \u001b[0;36m<cell line: 4>\u001b[1;34m()\u001b[0m\n\u001b[0;32m      <a href='vscode-notebook-cell:/c%3A/Users/raquel.aita/Documents/GitHub/stats-hydro/activ_2/activ_2.ipynb#Y112sZmlsZQ%3D%3D?line=1'>2</a>\u001b[0m i \u001b[39m=\u001b[39m df\u001b[39m.\u001b[39mindex\u001b[39m.\u001b[39mmin()\u001b[39m.\u001b[39mdate()\n\u001b[0;32m      <a href='vscode-notebook-cell:/c%3A/Users/raquel.aita/Documents/GitHub/stats-hydro/activ_2/activ_2.ipynb#Y112sZmlsZQ%3D%3D?line=2'>3</a>\u001b[0m f \u001b[39m=\u001b[39m df\u001b[39m.\u001b[39mindex\u001b[39m.\u001b[39mmax()\u001b[39m.\u001b[39mdate()\n\u001b[1;32m----> <a href='vscode-notebook-cell:/c%3A/Users/raquel.aita/Documents/GitHub/stats-hydro/activ_2/activ_2.ipynb#Y112sZmlsZQ%3D%3D?line=3'>4</a>\u001b[0m fazendinha_pluv \u001b[39m=\u001b[39m aux\u001b[39m.\u001b[39;49mactiv_2_stats(df, i , f)\n",
      "File \u001b[1;32mc:\\Users\\raquel.aita\\Documents\\GitHub\\stats-hydro\\activ_2\\activ_2.py:134\u001b[0m, in \u001b[0;36mactiv_2_stats\u001b[1;34m(df, i, f, print_results)\u001b[0m\n\u001b[0;32m    132\u001b[0m \u001b[39mdef\u001b[39;00m \u001b[39mactiv_2_stats\u001b[39m(df, i, f, print_results\u001b[39m=\u001b[39m\u001b[39mFalse\u001b[39;00m):  \n\u001b[0;32m    133\u001b[0m     \u001b[39m# Múltiplas escalas\u001b[39;00m\n\u001b[1;32m--> 134\u001b[0m     df_dia, df_mes, df_ano \u001b[39m=\u001b[39m multiple_scales(df, i, f)\n\u001b[0;32m    136\u001b[0m     \u001b[39m# Anual\u001b[39;00m\n\u001b[0;32m    137\u001b[0m     dado \u001b[39m=\u001b[39m df_ano[\u001b[39m\"\u001b[39m\u001b[39mdado\u001b[39m\u001b[39m\"\u001b[39m]\n",
      "File \u001b[1;32mc:\\Users\\raquel.aita\\Documents\\GitHub\\stats-hydro\\activ_2\\activ_2.py:84\u001b[0m, in \u001b[0;36mmultiple_scales\u001b[1;34m(df, i, f)\u001b[0m\n\u001b[0;32m     83\u001b[0m \u001b[39mdef\u001b[39;00m \u001b[39mmultiple_scales\u001b[39m(df, i, f):\n\u001b[1;32m---> 84\u001b[0m     df_dia \u001b[39m=\u001b[39m daily_scale(df, i, f)\n\u001b[0;32m     85\u001b[0m     df_mes \u001b[39m=\u001b[39m month_scale(df_dia, i, f)\n\u001b[0;32m     86\u001b[0m     df_ano \u001b[39m=\u001b[39m year_scale(df_mes, i, f)\n",
      "File \u001b[1;32mc:\\Users\\raquel.aita\\Documents\\GitHub\\stats-hydro\\activ_2\\activ_2.py:36\u001b[0m, in \u001b[0;36mdaily_scale\u001b[1;34m(df, i, f)\u001b[0m\n\u001b[0;32m     33\u001b[0m     ano\u001b[39m.\u001b[39mappend(i\u001b[39m.\u001b[39myear)\n\u001b[0;32m     34\u001b[0m     i \u001b[39m+\u001b[39m\u001b[39m=\u001b[39m timedelta(days\u001b[39m=\u001b[39m\u001b[39m1\u001b[39m)\n\u001b[1;32m---> 36\u001b[0m \u001b[39mreturn\u001b[39;00m pd\u001b[39m.\u001b[39;49mDataFrame({\u001b[39m'\u001b[39;49m\u001b[39mdia\u001b[39;49m\u001b[39m'\u001b[39;49m:dia, \u001b[39m'\u001b[39;49m\u001b[39mmes\u001b[39;49m\u001b[39m'\u001b[39;49m:mes, \u001b[39m'\u001b[39;49m\u001b[39mano\u001b[39;49m\u001b[39m'\u001b[39;49m:ano, \u001b[39m'\u001b[39;49m\u001b[39mdado\u001b[39;49m\u001b[39m'\u001b[39;49m:df\u001b[39m.\u001b[39;49mloc[:]})\n",
      "File \u001b[1;32mc:\\ProgramData\\Anaconda3\\lib\\site-packages\\pandas\\core\\frame.py:636\u001b[0m, in \u001b[0;36mDataFrame.__init__\u001b[1;34m(self, data, index, columns, dtype, copy)\u001b[0m\n\u001b[0;32m    630\u001b[0m     mgr \u001b[39m=\u001b[39m \u001b[39mself\u001b[39m\u001b[39m.\u001b[39m_init_mgr(\n\u001b[0;32m    631\u001b[0m         data, axes\u001b[39m=\u001b[39m{\u001b[39m\"\u001b[39m\u001b[39mindex\u001b[39m\u001b[39m\"\u001b[39m: index, \u001b[39m\"\u001b[39m\u001b[39mcolumns\u001b[39m\u001b[39m\"\u001b[39m: columns}, dtype\u001b[39m=\u001b[39mdtype, copy\u001b[39m=\u001b[39mcopy\n\u001b[0;32m    632\u001b[0m     )\n\u001b[0;32m    634\u001b[0m \u001b[39melif\u001b[39;00m \u001b[39misinstance\u001b[39m(data, \u001b[39mdict\u001b[39m):\n\u001b[0;32m    635\u001b[0m     \u001b[39m# GH#38939 de facto copy defaults to False only in non-dict cases\u001b[39;00m\n\u001b[1;32m--> 636\u001b[0m     mgr \u001b[39m=\u001b[39m dict_to_mgr(data, index, columns, dtype\u001b[39m=\u001b[39;49mdtype, copy\u001b[39m=\u001b[39;49mcopy, typ\u001b[39m=\u001b[39;49mmanager)\n\u001b[0;32m    637\u001b[0m \u001b[39melif\u001b[39;00m \u001b[39misinstance\u001b[39m(data, ma\u001b[39m.\u001b[39mMaskedArray):\n\u001b[0;32m    638\u001b[0m     \u001b[39mimport\u001b[39;00m \u001b[39mnumpy\u001b[39;00m\u001b[39m.\u001b[39;00m\u001b[39mma\u001b[39;00m\u001b[39m.\u001b[39;00m\u001b[39mmrecords\u001b[39;00m \u001b[39mas\u001b[39;00m \u001b[39mmrecords\u001b[39;00m\n",
      "File \u001b[1;32mc:\\ProgramData\\Anaconda3\\lib\\site-packages\\pandas\\core\\internals\\construction.py:502\u001b[0m, in \u001b[0;36mdict_to_mgr\u001b[1;34m(data, index, columns, dtype, typ, copy)\u001b[0m\n\u001b[0;32m    494\u001b[0m     arrays \u001b[39m=\u001b[39m [\n\u001b[0;32m    495\u001b[0m         x\n\u001b[0;32m    496\u001b[0m         \u001b[39mif\u001b[39;00m \u001b[39mnot\u001b[39;00m \u001b[39mhasattr\u001b[39m(x, \u001b[39m\"\u001b[39m\u001b[39mdtype\u001b[39m\u001b[39m\"\u001b[39m) \u001b[39mor\u001b[39;00m \u001b[39mnot\u001b[39;00m \u001b[39misinstance\u001b[39m(x\u001b[39m.\u001b[39mdtype, ExtensionDtype)\n\u001b[0;32m    497\u001b[0m         \u001b[39melse\u001b[39;00m x\u001b[39m.\u001b[39mcopy()\n\u001b[0;32m    498\u001b[0m         \u001b[39mfor\u001b[39;00m x \u001b[39min\u001b[39;00m arrays\n\u001b[0;32m    499\u001b[0m     ]\n\u001b[0;32m    500\u001b[0m     \u001b[39m# TODO: can we get rid of the dt64tz special case above?\u001b[39;00m\n\u001b[1;32m--> 502\u001b[0m \u001b[39mreturn\u001b[39;00m arrays_to_mgr(arrays, columns, index, dtype\u001b[39m=\u001b[39;49mdtype, typ\u001b[39m=\u001b[39;49mtyp, consolidate\u001b[39m=\u001b[39;49mcopy)\n",
      "File \u001b[1;32mc:\\ProgramData\\Anaconda3\\lib\\site-packages\\pandas\\core\\internals\\construction.py:120\u001b[0m, in \u001b[0;36marrays_to_mgr\u001b[1;34m(arrays, columns, index, dtype, verify_integrity, typ, consolidate)\u001b[0m\n\u001b[0;32m    117\u001b[0m \u001b[39mif\u001b[39;00m verify_integrity:\n\u001b[0;32m    118\u001b[0m     \u001b[39m# figure out the index, if necessary\u001b[39;00m\n\u001b[0;32m    119\u001b[0m     \u001b[39mif\u001b[39;00m index \u001b[39mis\u001b[39;00m \u001b[39mNone\u001b[39;00m:\n\u001b[1;32m--> 120\u001b[0m         index \u001b[39m=\u001b[39m _extract_index(arrays)\n\u001b[0;32m    121\u001b[0m     \u001b[39melse\u001b[39;00m:\n\u001b[0;32m    122\u001b[0m         index \u001b[39m=\u001b[39m ensure_index(index)\n",
      "File \u001b[1;32mc:\\ProgramData\\Anaconda3\\lib\\site-packages\\pandas\\core\\internals\\construction.py:688\u001b[0m, in \u001b[0;36m_extract_index\u001b[1;34m(data)\u001b[0m\n\u001b[0;32m    683\u001b[0m     \u001b[39mif\u001b[39;00m lengths[\u001b[39m0\u001b[39m] \u001b[39m!=\u001b[39m \u001b[39mlen\u001b[39m(index):\n\u001b[0;32m    684\u001b[0m         msg \u001b[39m=\u001b[39m (\n\u001b[0;32m    685\u001b[0m             \u001b[39mf\u001b[39m\u001b[39m\"\u001b[39m\u001b[39marray length \u001b[39m\u001b[39m{\u001b[39;00mlengths[\u001b[39m0\u001b[39m]\u001b[39m}\u001b[39;00m\u001b[39m does not match index \u001b[39m\u001b[39m\"\u001b[39m\n\u001b[0;32m    686\u001b[0m             \u001b[39mf\u001b[39m\u001b[39m\"\u001b[39m\u001b[39mlength \u001b[39m\u001b[39m{\u001b[39;00m\u001b[39mlen\u001b[39m(index)\u001b[39m}\u001b[39;00m\u001b[39m\"\u001b[39m\n\u001b[0;32m    687\u001b[0m         )\n\u001b[1;32m--> 688\u001b[0m         \u001b[39mraise\u001b[39;00m \u001b[39mValueError\u001b[39;00m(msg)\n\u001b[0;32m    689\u001b[0m \u001b[39melse\u001b[39;00m:\n\u001b[0;32m    690\u001b[0m     index \u001b[39m=\u001b[39m default_index(lengths[\u001b[39m0\u001b[39m])\n",
      "\u001b[1;31mValueError\u001b[0m: array length 21064 does not match index length 21946"
     ]
    }
   ],
   "source": [
    "df = df_fazendinha.pluv\n",
    "i = df.index.min().date()\n",
    "f = df.index.max().date()\n",
    "fazendinha_pluv = aux.activ_2_stats(df, i , f)"
   ]
  },
  {
   "cell_type": "markdown",
   "id": "d1e1fab0",
   "metadata": {},
   "source": [
    "### Fluviométrica"
   ]
  },
  {
   "cell_type": "code",
   "execution_count": 11,
   "id": "ffb2af1f",
   "metadata": {},
   "outputs": [
    {
     "ename": "ValueError",
     "evalue": "array length 21064 does not match index length 21946",
     "output_type": "error",
     "traceback": [
      "\u001b[1;31m---------------------------------------------------------------------------\u001b[0m",
      "\u001b[1;31mValueError\u001b[0m                                Traceback (most recent call last)",
      "\u001b[1;32mc:\\Users\\raquel.aita\\Documents\\GitHub\\stats-hydro\\activ_2\\activ_2.ipynb Célula: 16\u001b[0m in \u001b[0;36m<cell line: 4>\u001b[1;34m()\u001b[0m\n\u001b[0;32m      <a href='vscode-notebook-cell:/c%3A/Users/raquel.aita/Documents/GitHub/stats-hydro/activ_2/activ_2.ipynb#Y115sZmlsZQ%3D%3D?line=1'>2</a>\u001b[0m i \u001b[39m=\u001b[39m df\u001b[39m.\u001b[39mindex\u001b[39m.\u001b[39mmin()\u001b[39m.\u001b[39mdate()\n\u001b[0;32m      <a href='vscode-notebook-cell:/c%3A/Users/raquel.aita/Documents/GitHub/stats-hydro/activ_2/activ_2.ipynb#Y115sZmlsZQ%3D%3D?line=2'>3</a>\u001b[0m f \u001b[39m=\u001b[39m df\u001b[39m.\u001b[39mindex\u001b[39m.\u001b[39mmax()\u001b[39m.\u001b[39mdate()\n\u001b[1;32m----> <a href='vscode-notebook-cell:/c%3A/Users/raquel.aita/Documents/GitHub/stats-hydro/activ_2/activ_2.ipynb#Y115sZmlsZQ%3D%3D?line=3'>4</a>\u001b[0m fazendinha_fluv \u001b[39m=\u001b[39m aux\u001b[39m.\u001b[39;49mactiv_2_stats(df, i , f)\n",
      "File \u001b[1;32mc:\\Users\\raquel.aita\\Documents\\GitHub\\stats-hydro\\activ_2\\activ_2.py:134\u001b[0m, in \u001b[0;36mactiv_2_stats\u001b[1;34m(df, i, f, print_results)\u001b[0m\n\u001b[0;32m    132\u001b[0m \u001b[39mdef\u001b[39;00m \u001b[39mactiv_2_stats\u001b[39m(df, i, f, print_results\u001b[39m=\u001b[39m\u001b[39mFalse\u001b[39;00m):  \n\u001b[0;32m    133\u001b[0m     \u001b[39m# Múltiplas escalas\u001b[39;00m\n\u001b[1;32m--> 134\u001b[0m     df_dia, df_mes, df_ano \u001b[39m=\u001b[39m multiple_scales(df, i, f)\n\u001b[0;32m    136\u001b[0m     \u001b[39m# Anual\u001b[39;00m\n\u001b[0;32m    137\u001b[0m     dado \u001b[39m=\u001b[39m df_ano[\u001b[39m\"\u001b[39m\u001b[39mdado\u001b[39m\u001b[39m\"\u001b[39m]\n",
      "File \u001b[1;32mc:\\Users\\raquel.aita\\Documents\\GitHub\\stats-hydro\\activ_2\\activ_2.py:84\u001b[0m, in \u001b[0;36mmultiple_scales\u001b[1;34m(df, i, f)\u001b[0m\n\u001b[0;32m     83\u001b[0m \u001b[39mdef\u001b[39;00m \u001b[39mmultiple_scales\u001b[39m(df, i, f):\n\u001b[1;32m---> 84\u001b[0m     df_dia \u001b[39m=\u001b[39m daily_scale(df, i, f)\n\u001b[0;32m     85\u001b[0m     df_mes \u001b[39m=\u001b[39m month_scale(df_dia, i, f)\n\u001b[0;32m     86\u001b[0m     df_ano \u001b[39m=\u001b[39m year_scale(df_mes, i, f)\n",
      "File \u001b[1;32mc:\\Users\\raquel.aita\\Documents\\GitHub\\stats-hydro\\activ_2\\activ_2.py:36\u001b[0m, in \u001b[0;36mdaily_scale\u001b[1;34m(df, i, f)\u001b[0m\n\u001b[0;32m     33\u001b[0m     ano\u001b[39m.\u001b[39mappend(i\u001b[39m.\u001b[39myear)\n\u001b[0;32m     34\u001b[0m     i \u001b[39m+\u001b[39m\u001b[39m=\u001b[39m timedelta(days\u001b[39m=\u001b[39m\u001b[39m1\u001b[39m)\n\u001b[1;32m---> 36\u001b[0m \u001b[39mreturn\u001b[39;00m pd\u001b[39m.\u001b[39;49mDataFrame({\u001b[39m'\u001b[39;49m\u001b[39mdia\u001b[39;49m\u001b[39m'\u001b[39;49m:dia, \u001b[39m'\u001b[39;49m\u001b[39mmes\u001b[39;49m\u001b[39m'\u001b[39;49m:mes, \u001b[39m'\u001b[39;49m\u001b[39mano\u001b[39;49m\u001b[39m'\u001b[39;49m:ano, \u001b[39m'\u001b[39;49m\u001b[39mdado\u001b[39;49m\u001b[39m'\u001b[39;49m:df\u001b[39m.\u001b[39;49mloc[:]})\n",
      "File \u001b[1;32mc:\\ProgramData\\Anaconda3\\lib\\site-packages\\pandas\\core\\frame.py:636\u001b[0m, in \u001b[0;36mDataFrame.__init__\u001b[1;34m(self, data, index, columns, dtype, copy)\u001b[0m\n\u001b[0;32m    630\u001b[0m     mgr \u001b[39m=\u001b[39m \u001b[39mself\u001b[39m\u001b[39m.\u001b[39m_init_mgr(\n\u001b[0;32m    631\u001b[0m         data, axes\u001b[39m=\u001b[39m{\u001b[39m\"\u001b[39m\u001b[39mindex\u001b[39m\u001b[39m\"\u001b[39m: index, \u001b[39m\"\u001b[39m\u001b[39mcolumns\u001b[39m\u001b[39m\"\u001b[39m: columns}, dtype\u001b[39m=\u001b[39mdtype, copy\u001b[39m=\u001b[39mcopy\n\u001b[0;32m    632\u001b[0m     )\n\u001b[0;32m    634\u001b[0m \u001b[39melif\u001b[39;00m \u001b[39misinstance\u001b[39m(data, \u001b[39mdict\u001b[39m):\n\u001b[0;32m    635\u001b[0m     \u001b[39m# GH#38939 de facto copy defaults to False only in non-dict cases\u001b[39;00m\n\u001b[1;32m--> 636\u001b[0m     mgr \u001b[39m=\u001b[39m dict_to_mgr(data, index, columns, dtype\u001b[39m=\u001b[39;49mdtype, copy\u001b[39m=\u001b[39;49mcopy, typ\u001b[39m=\u001b[39;49mmanager)\n\u001b[0;32m    637\u001b[0m \u001b[39melif\u001b[39;00m \u001b[39misinstance\u001b[39m(data, ma\u001b[39m.\u001b[39mMaskedArray):\n\u001b[0;32m    638\u001b[0m     \u001b[39mimport\u001b[39;00m \u001b[39mnumpy\u001b[39;00m\u001b[39m.\u001b[39;00m\u001b[39mma\u001b[39;00m\u001b[39m.\u001b[39;00m\u001b[39mmrecords\u001b[39;00m \u001b[39mas\u001b[39;00m \u001b[39mmrecords\u001b[39;00m\n",
      "File \u001b[1;32mc:\\ProgramData\\Anaconda3\\lib\\site-packages\\pandas\\core\\internals\\construction.py:502\u001b[0m, in \u001b[0;36mdict_to_mgr\u001b[1;34m(data, index, columns, dtype, typ, copy)\u001b[0m\n\u001b[0;32m    494\u001b[0m     arrays \u001b[39m=\u001b[39m [\n\u001b[0;32m    495\u001b[0m         x\n\u001b[0;32m    496\u001b[0m         \u001b[39mif\u001b[39;00m \u001b[39mnot\u001b[39;00m \u001b[39mhasattr\u001b[39m(x, \u001b[39m\"\u001b[39m\u001b[39mdtype\u001b[39m\u001b[39m\"\u001b[39m) \u001b[39mor\u001b[39;00m \u001b[39mnot\u001b[39;00m \u001b[39misinstance\u001b[39m(x\u001b[39m.\u001b[39mdtype, ExtensionDtype)\n\u001b[0;32m    497\u001b[0m         \u001b[39melse\u001b[39;00m x\u001b[39m.\u001b[39mcopy()\n\u001b[0;32m    498\u001b[0m         \u001b[39mfor\u001b[39;00m x \u001b[39min\u001b[39;00m arrays\n\u001b[0;32m    499\u001b[0m     ]\n\u001b[0;32m    500\u001b[0m     \u001b[39m# TODO: can we get rid of the dt64tz special case above?\u001b[39;00m\n\u001b[1;32m--> 502\u001b[0m \u001b[39mreturn\u001b[39;00m arrays_to_mgr(arrays, columns, index, dtype\u001b[39m=\u001b[39;49mdtype, typ\u001b[39m=\u001b[39;49mtyp, consolidate\u001b[39m=\u001b[39;49mcopy)\n",
      "File \u001b[1;32mc:\\ProgramData\\Anaconda3\\lib\\site-packages\\pandas\\core\\internals\\construction.py:120\u001b[0m, in \u001b[0;36marrays_to_mgr\u001b[1;34m(arrays, columns, index, dtype, verify_integrity, typ, consolidate)\u001b[0m\n\u001b[0;32m    117\u001b[0m \u001b[39mif\u001b[39;00m verify_integrity:\n\u001b[0;32m    118\u001b[0m     \u001b[39m# figure out the index, if necessary\u001b[39;00m\n\u001b[0;32m    119\u001b[0m     \u001b[39mif\u001b[39;00m index \u001b[39mis\u001b[39;00m \u001b[39mNone\u001b[39;00m:\n\u001b[1;32m--> 120\u001b[0m         index \u001b[39m=\u001b[39m _extract_index(arrays)\n\u001b[0;32m    121\u001b[0m     \u001b[39melse\u001b[39;00m:\n\u001b[0;32m    122\u001b[0m         index \u001b[39m=\u001b[39m ensure_index(index)\n",
      "File \u001b[1;32mc:\\ProgramData\\Anaconda3\\lib\\site-packages\\pandas\\core\\internals\\construction.py:688\u001b[0m, in \u001b[0;36m_extract_index\u001b[1;34m(data)\u001b[0m\n\u001b[0;32m    683\u001b[0m     \u001b[39mif\u001b[39;00m lengths[\u001b[39m0\u001b[39m] \u001b[39m!=\u001b[39m \u001b[39mlen\u001b[39m(index):\n\u001b[0;32m    684\u001b[0m         msg \u001b[39m=\u001b[39m (\n\u001b[0;32m    685\u001b[0m             \u001b[39mf\u001b[39m\u001b[39m\"\u001b[39m\u001b[39marray length \u001b[39m\u001b[39m{\u001b[39;00mlengths[\u001b[39m0\u001b[39m]\u001b[39m}\u001b[39;00m\u001b[39m does not match index \u001b[39m\u001b[39m\"\u001b[39m\n\u001b[0;32m    686\u001b[0m             \u001b[39mf\u001b[39m\u001b[39m\"\u001b[39m\u001b[39mlength \u001b[39m\u001b[39m{\u001b[39;00m\u001b[39mlen\u001b[39m(index)\u001b[39m}\u001b[39;00m\u001b[39m\"\u001b[39m\n\u001b[0;32m    687\u001b[0m         )\n\u001b[1;32m--> 688\u001b[0m         \u001b[39mraise\u001b[39;00m \u001b[39mValueError\u001b[39;00m(msg)\n\u001b[0;32m    689\u001b[0m \u001b[39melse\u001b[39;00m:\n\u001b[0;32m    690\u001b[0m     index \u001b[39m=\u001b[39m default_index(lengths[\u001b[39m0\u001b[39m])\n",
      "\u001b[1;31mValueError\u001b[0m: array length 21064 does not match index length 21946"
     ]
    }
   ],
   "source": [
    "df = df_fazendinha.fluv\n",
    "i = df.index.min().date()\n",
    "f = df.index.max().date()\n",
    "fazendinha_fluv = aux.activ_2_stats(df, i , f)"
   ]
  },
  {
   "cell_type": "markdown",
   "id": "4c3bfce7-1a89-4c2d-952d-5cff315421e0",
   "metadata": {},
   "source": [
    "# Geração de gráficos"
   ]
  },
  {
   "cell_type": "markdown",
   "id": "3f4ccea2-1582-48d4-9044-326293919d7b",
   "metadata": {
    "jp-MarkdownHeadingCollapsed": true,
    "tags": []
   },
   "source": [
    "### Gráfico de dispersão"
   ]
  },
  {
   "cell_type": "code",
   "execution_count": null,
   "id": "64056939-31da-4238-a920-e32d87352db6",
   "metadata": {},
   "outputs": [],
   "source": [
    "fig, ax = plt.subplots()\n",
    "\n",
    "ax.scatter(df_ano[0][\"data\"], df_ano[1][\"data\"] * 365)\n",
    "ax.set_xlabel(\"Vazão (m$^3$/s)\")\n",
    "ax.set_ylabel(\"Precipitação (mm/ano)\")\n",
    "\n",
    "if salvar:\n",
    "    fig.savefig(\"figures/scatter_sjp.png\", format=\"png\", dpi=300)\n",
    "plt.show()"
   ]
  },
  {
   "cell_type": "code",
   "execution_count": null,
   "id": "0c1c989e-7c65-4fa2-a618-661312aa1591",
   "metadata": {},
   "outputs": [],
   "source": [
    "fig, ax = plt.subplots()\n",
    "\n",
    "ax.scatter(df_ano[2][\"data\"].iloc[1:-1], df_ano[3][\"data\"].iloc[1:-1] * 365)\n",
    "ax.set_xlabel(\"Vazão (m$^3$/s)\")\n",
    "ax.set_ylabel(\"Precipitação (mm/ano)\")\n",
    "\n",
    "if salvar:\n",
    "    fig.savefig(\"figures/scatter_sjp.png\", format=\"png\", dpi=300)\n",
    "plt.show()"
   ]
  },
  {
   "cell_type": "markdown",
   "id": "f5d8bdb0-9194-420c-b7bc-8b01b035384b",
   "metadata": {
    "jp-MarkdownHeadingCollapsed": true,
    "tags": []
   },
   "source": [
    "### Histograma"
   ]
  },
  {
   "cell_type": "code",
   "execution_count": null,
   "id": "427546ac-006e-40a9-8161-728aed6cb6c0",
   "metadata": {},
   "outputs": [],
   "source": [
    "serie_anual = df_ano[0]\n",
    "N = serie_anual.shape[0]\n",
    "NC = round(1 + 3.3 * np.log10(N))  # Sturges"
   ]
  },
  {
   "cell_type": "code",
   "execution_count": null,
   "id": "bf44f305-bd6e-48d7-9355-4eb98107b7bc",
   "metadata": {},
   "outputs": [],
   "source": [
    "counts, bins_pol = np.histogram(serie_anual[\"data\"], bins=NC)"
   ]
  },
  {
   "cell_type": "code",
   "execution_count": null,
   "id": "02085627-4bcf-4042-9403-13de862b1662",
   "metadata": {},
   "outputs": [],
   "source": [
    "# Frequency polygon\n",
    "counts, bins_pol = np.histogram(serie_anual[\"data\"], bins=NC)\n",
    "bins_pol = np.concatenate([np.array([bins_pol[0]]), (bins_pol[:-1] + bins_pol[1:]) / 2, np.array([bins_pol[-1]])])\n",
    "counts = np.concatenate([np.zeros(1), counts, np.zeros(1)])\n",
    "\n",
    "q1, q3 = np.percentile(serie_anual[\"data\"], [25, 75])\n",
    "whisker_low = q1 - (q3 - q1) * 1.5\n",
    "whisker_high = q3 + (q3 - q1) * 1.5\n",
    "outliers = serie_anual[\"data\"][(serie_anual[\"data\"] > whisker_high) | (serie_anual[\"data\"] < whisker_low)]\n",
    "\n",
    "fig, ax = plt.subplots(2, 1, constrained_layout=True, gridspec_kw={\"height_ratios\":[2, 1]})\n",
    "ax_right = ax[0].twinx()\n",
    "\n",
    "n, bins, _ = ax[0].hist(\n",
    "        x=serie_anual[\"data\"], bins='sturges', color='#36759f', edgecolor='#3d3d3d',\n",
    ")\n",
    "ax[0].set_ylabel(\"Freq. Absoluta\")\n",
    "ax[0].set_xticks(bins)\n",
    "ax[0].set_xticklabels(bins.round())\n",
    "ax_right.hist(\n",
    "        x=serie_anual[\"data\"], bins=len(n), color='#36759f', edgecolor='#3d3d3d', \n",
    "        weights=np.ones_like(serie_anual[\"data\"].to_numpy())/len(serie_anual[\"data\"]),\n",
    ")\n",
    "ax_right.set_ylabel(\"Freq. Relativa\")\n",
    "\n",
    "ax_right.plot(bins_pol, counts/len(serie_anual[\"data\"]), '--', color='#3d3d3d')\n",
    "\n",
    "sns.violinplot(x=serie_anual[\"data\"], cut=0, ax=ax[1])\n",
    "ax[1].set_xticks(bins)\n",
    "ax[1].set_xticklabels(bins.round())\n",
    "ax[1].set_yticks([])\n",
    "ax[1].set_xlabel('Vazão (m$^3$/s)')\n",
    "ax[1].set_ylabel(\"Violin Plot\")\n",
    "sns.scatterplot(x=outliers, y=0, marker='D', edgecolor='#3d3d3d', color='#3d3d3d', ax=ax[1])\n",
    "\n",
    "if salvar:\n",
    "    fig.savefig('report/plots.png', format='png', dpi=300)\n",
    "plt.plot()"
   ]
  },
  {
   "cell_type": "markdown",
   "id": "a21d0682-28d8-4226-a24d-bc6eeddb6aca",
   "metadata": {
    "jp-MarkdownHeadingCollapsed": true,
    "tags": []
   },
   "source": [
    "### Box-plot"
   ]
  },
  {
   "cell_type": "code",
   "execution_count": null,
   "id": "c7fedf33-e395-40b8-a959-bb82dd99afac",
   "metadata": {},
   "outputs": [],
   "source": [
    "df = {}\n",
    "for m in range(1, 13):\n",
    "    x = df_mes[0][df_mes[0][\"mes\"] == m][\"data\"]\n",
    "    df[m] = x.values\n",
    "df = pd.DataFrame(df)"
   ]
  },
  {
   "cell_type": "code",
   "execution_count": null,
   "id": "4c526c2c-4629-445e-b088-5a8f26cfbeb7",
   "metadata": {},
   "outputs": [],
   "source": [
    "fig, ax = plt.subplots(constrained_layout=True, figsize=(8, 4))\n",
    "\n",
    "sns.violinplot(data=df, cut=0, ax=ax)\n",
    "\n",
    "for m in range(1, 13):\n",
    "    q1, q3 = np.percentile(df[m], [25, 75])\n",
    "    whisker_low = q1 - (q3 - q1) * 1.5\n",
    "    whisker_high = q3 + (q3 - q1) * 1.5\n",
    "    outliers = df[m][(df[m] > whisker_high) | (df[m] < whisker_low)]\n",
    "    sns.scatterplot(x)\n",
    "\n",
    "ax.plot(range(12), df.mean(), \"--\", color='red', alpha=0.75, label=\"Média\")\n",
    "    \n",
    "ax.set_xlabel('Mês')\n",
    "ax.set_ylabel('Vazão (m$^3$/s)')\n",
    "ax.legend()\n",
    "=m-1, y=outliers, marker='D', edgecolor='#3d3d3d', color='#3d3d3d', ax=ax\n",
    "if salvar:\n",
    "    fig.savefig('report/plots.png', format='png', dpi=300)\n",
    "plt.plot()"
   ]
  },
  {
   "cell_type": "markdown",
   "id": "379126ac-8912-423b-a0dd-bfba213551b4",
   "metadata": {},
   "source": [
    "### Curva de permanência"
   ]
  },
  {
   "cell_type": "code",
   "execution_count": null,
   "id": "7df10c49-7ee2-40c3-8120-a281ec387053",
   "metadata": {},
   "outputs": [],
   "source": [
    "x = df_ano[0][\"data\"]"
   ]
  },
  {
   "cell_type": "code",
   "execution_count": null,
   "id": "081e3790-fc4b-4c26-956e-9a3c3ad0b1de",
   "metadata": {},
   "outputs": [],
   "source": [
    "# Flow duration curve\n",
    "vazao_decr = x.sort_values(ascending=False)\n",
    "N = vazao_decr.shape[0]\n",
    "n = np.arange(N) + 1\n",
    "n_N = n / N\n",
    "\n",
    "fig, ax = plt.subplots()\n",
    "ax.plot(n_N * 100, vazao_decr, \"--\")\n",
    "\n",
    "ax.fill_between(n_N * 100, vazao_decr, alpha=0.2)\n",
    "\n",
    "ax.set_xlabel('Permanência (%)')\n",
    "ax.set_xlim([n_N.min() * 100, 100])\n",
    "ax.set_ylabel('Vazão (m$^3$/s)')\n",
    "ax.set_ylim([0, vazao_decr.max()])\n",
    "\n",
    "if salvar:\n",
    "    fig.savefig()\n",
    "plt.show()"
   ]
  }
 ],
 "metadata": {
  "kernelspec": {
   "display_name": "base",
   "language": "python",
   "name": "python3"
  },
  "language_info": {
   "codemirror_mode": {
    "name": "ipython",
    "version": 3
   },
   "file_extension": ".py",
   "mimetype": "text/x-python",
   "name": "python",
   "nbconvert_exporter": "python",
   "pygments_lexer": "ipython3",
   "version": "3.9.12"
  },
  "vscode": {
   "interpreter": {
    "hash": "ad2bdc8ecc057115af97d19610ffacc2b4e99fae6737bb82f5d7fb13d2f2c186"
   }
  }
 },
 "nbformat": 4,
 "nbformat_minor": 5
}
